{
 "cells": [
  {
   "cell_type": "code",
   "execution_count": 1588,
   "metadata": {
    "collapsed": true,
    "nbpresent": {
     "id": "144090c5-7649-4d99-8e3f-cab451249358"
    },
    "slideshow": {
     "slide_type": "skip"
    }
   },
   "outputs": [],
   "source": [
    "#Import Necessary Libraries\n",
    "%matplotlib inline\n",
    "import subprocess\n",
    "import pandas as pd;\n",
    "from pandas import ExcelWriter\n",
    "import matplotlib.pyplot as plt;\n",
    "from matplotlib import gridspec\n",
    "from matplotlib.backends.backend_pdf import PdfPages"
   ]
  },
  {
   "cell_type": "code",
   "execution_count": 1626,
   "metadata": {
    "collapsed": true,
    "nbpresent": {
     "id": "b8e7823b-308e-4092-b132-0c6dc906ef5f"
    },
    "slideshow": {
     "slide_type": "skip"
    }
   },
   "outputs": [],
   "source": [
    "#Define All Necessary Functions\n",
    "def import_csv(csv):\n",
    "    data = pd.read_csv(csv)\n",
    "    data = data.fillna(\"\")\n",
    "    data = pd.DataFrame(data)\n",
    "    return data\n",
    "\n",
    "#I could add colors in the constructor here\n",
    "def crunch_numbers(raw_data, question, answers):\n",
    "    category_data = raw_data[question]\n",
    "    sub_category_counts = []\n",
    "    sub_category_labels = []\n",
    "    final_array = []\n",
    "    \n",
    "    for x in range(len(answers)):\n",
    "        sub_cat_data = category_data[category_data==answers[x]]\n",
    "        sub_category_counts.append(sub_cat_data.value_counts()[0])\n",
    "    total_sub_category_counts = sum(sub_category_counts)\n",
    "    \n",
    "    for x in range(len(answers)):\n",
    "        sub_category_labels.append(answers[x]+\": \\n\" + str(round(float(sub_category_counts[x])/(total_sub_category_counts)*100,1)) + \"%\")\n",
    "    final_array.append(sub_category_counts)\n",
    "    final_array.append(sub_category_labels)\n",
    "    return final_array\n",
    "        \n",
    "def visualize_single_bar(values, labels):\n",
    "    pos = arange(len(values))+.2\n",
    "    fig = plt.figure(figsize=(15,7))\n",
    "    ax = fig.add_subplot(111)\n",
    "    ax.autoscale(enable=True, axis= 'x', tight = True)\n",
    "    ax.set_ylim(0, len(values))\n",
    "\n",
    "    ax.barh(pos, values, height = .5)\n",
    "    ax.set_yticklabels(labels, fontsize=20)\n",
    "    ax.set_yticks(pos+.2)\n",
    "    ax.get_xaxis().set_visible(False)"
   ]
  },
  {
   "cell_type": "code",
   "execution_count": 1639,
   "metadata": {
    "collapsed": false,
    "nbpresent": {
     "id": "2f4224fa-8ee6-4df1-8e5d-ade3fcab9afe"
    },
    "slideshow": {
     "slide_type": "skip"
    }
   },
   "outputs": [],
   "source": [
    "#Import RAW Data\n",
    "data = import_csv(\"PollData.csv\")\n",
    "data = data.pivot('ID', 'Poll Title', 'Response')\n",
    "\n",
    "#Set Question Info Here\n",
    "gender_question = \"What is your gender?\"\n",
    "gender_choice_Male = \"Male\"\n",
    "gender_choice_Female = \"Female\"\n",
    "gender_answers = [gender_choice_Male, gender_choice_Female]\n",
    "\n",
    "age_range_question = \"What is your age range?\"\n",
    "age_range_choice_under40 = \"under 40\"\n",
    "age_range_choice_40_59 = \"40-59\"\n",
    "age_range_choice_over60 = \"over 60\"\n",
    "age_range_answers = [age_range_choice_under40, age_range_choice_40_59, age_range_choice_over60]\n",
    "\n",
    "party_question = \"What is your party of registration?\"\n",
    "party_choice_Democrat = \"Democrat\"\n",
    "party_choice_Republican = \"Republican\"\n",
    "party_choice_Independent = \"Independent\"\n",
    "party_choice_other = \"other or not registered\"\n",
    "party_answers = [party_choice_Democrat, party_choice_Republican, party_choice_Independent, party_choice_other]\n",
    "\n",
    "president_question = \"Who are you voting for in this year's Presidential election?\"\n",
    "president_choice_clinton = \"Clinton\"\n",
    "president_choice_trump = \"Trump\"\n",
    "president_choice_other = \"Other\"\n",
    "president_answers = [president_choice_clinton, president_choice_trump, president_choice_other]\n"
   ]
  },
  {
   "cell_type": "code",
   "execution_count": 1628,
   "metadata": {
    "collapsed": false,
    "nbpresent": {
     "id": "a51b60f0-2cee-4db2-89a6-0f958f213f08"
    },
    "slideshow": {
     "slide_type": "skip"
    }
   },
   "outputs": [
    {
     "data": {
      "text/plain": [
       "'\\ngender_data = data[gender_question]\\n\\nall_Males = gender_data[gender_data==gender_choice_Male]\\nmale_count = all_Males.value_counts()[0]\\nall_Females = gender_data[gender_data==gender_choice_Female]\\nfemale_count = all_Females.value_counts()[0]\\ntotal_gender_count = male_count+female_count\\n\\n\\nmale_label = gender_choice_Male + \": \\n\" + str(round(float(male_count)/(total_gender_count)*100,1)) + \"%\"\\nfemale_label = gender_choice_Female + \": \\n\" + str(round(float(female_count)/(total_gender_count)*100,1)) + \"%\"                           \\n                              \\ngender_values = [male_count, female_count]\\ngender_labels =[male_label, female_label]'"
      ]
     },
     "execution_count": 1628,
     "metadata": {},
     "output_type": "execute_result"
    }
   ],
   "source": [
    "#Aggregate Gender Data\n",
    "gender_data = crunch_numbers(data, gender_question, gender_answers) \n",
    "'''\n",
    "gender_data = data[gender_question]\n",
    "\n",
    "all_Males = gender_data[gender_data==gender_choice_Male]\n",
    "male_count = all_Males.value_counts()[0]\n",
    "all_Females = gender_data[gender_data==gender_choice_Female]\n",
    "female_count = all_Females.value_counts()[0]\n",
    "total_gender_count = male_count+female_count\n",
    "\n",
    "\n",
    "male_label = gender_choice_Male + \": \\n\" + str(round(float(male_count)/(total_gender_count)*100,1)) + \"%\"\n",
    "female_label = gender_choice_Female + \": \\n\" + str(round(float(female_count)/(total_gender_count)*100,1)) + \"%\"                           \n",
    "                              \n",
    "gender_values = [male_count, female_count]\n",
    "gender_labels =[male_label, female_label]'''"
   ]
  },
  {
   "cell_type": "markdown",
   "metadata": {
    "nbpresent": {
     "id": "43aef5fb-0afb-4f05-975b-20e5a422ba3b"
    },
    "slideshow": {
     "slide_type": "slide"
    }
   },
   "source": [
    "# Are you Male or Female?"
   ]
  },
  {
   "cell_type": "code",
   "execution_count": 1629,
   "metadata": {
    "collapsed": false,
    "nbpresent": {
     "id": "1ca6a7ec-d068-4217-8ea7-2768f76f54f0"
    },
    "scrolled": false,
    "slideshow": {
     "slide_type": "fragment"
    }
   },
   "outputs": [
    {
     "data": {
      "image/png": "[encoded data removed]",
      "text/plain": [
       "<matplotlib.figure.Figure at 0x14158400>"
      ]
     },
     "metadata": {},
     "output_type": "display_data"
    }
   ],
   "source": [
    "visualize_single_bar(gender_data[0], gender_data[1])"
   ]
  },
  {
   "cell_type": "code",
   "execution_count": 1631,
   "metadata": {
    "collapsed": false,
    "slideshow": {
     "slide_type": "skip"
    }
   },
   "outputs": [
    {
     "data": {
      "text/plain": [
       "'age_data = data[age_range_question]\\nunder_40 = age_data[age_data==age_range_choice_under40]\\nunder_40_count = under_40.value_counts()[0]\\n\\nforty_59 = age_data[age_data==age_range_choice_40_59]\\nforty_59_count = forty_59.value_counts()[0]\\n\\nover_60 = age_data[age_data==age_range_choice_over60]\\nover_60_count = over_60.value_counts()[0]\\n\\ntotal_age_count = under_40_count+forty_59_count+over_60_count\\n\\nunder_40_label = age_range_choice_under40 + \": \\n\" + str(round(float(under_40_count)/(total_age_count)*100,2)) + \"%\"\\nforty_59_label = age_range_choice_40_59 + \": \\n\" + str(round(float(forty_59_count)/(total_age_count)*100,2)) + \"%\"\\nover_60_label = age_range_choice_over60 + \": \\n\" + str(round(float(over_60_count)/(total_age_count)*100,2)) + \"%\"\\n\\nage_values = [under_40_count,forty_59_count,over_60_count]\\nage_labels = [under_40_label, forty_59_label, over_60_label]'"
      ]
     },
     "execution_count": 1631,
     "metadata": {},
     "output_type": "execute_result"
    }
   ],
   "source": [
    "#Aggregate Age Data\n",
    "age_range_data = crunch_numbers(data,age_range_question, age_range_answers)\n",
    "\n",
    "'''age_data = data[age_range_question]\n",
    "under_40 = age_data[age_data==age_range_choice_under40]\n",
    "under_40_count = under_40.value_counts()[0]\n",
    "\n",
    "forty_59 = age_data[age_data==age_range_choice_40_59]\n",
    "forty_59_count = forty_59.value_counts()[0]\n",
    "\n",
    "over_60 = age_data[age_data==age_range_choice_over60]\n",
    "over_60_count = over_60.value_counts()[0]\n",
    "\n",
    "total_age_count = under_40_count+forty_59_count+over_60_count\n",
    "\n",
    "under_40_label = age_range_choice_under40 + \": \\n\" + str(round(float(under_40_count)/(total_age_count)*100,2)) + \"%\"\n",
    "forty_59_label = age_range_choice_40_59 + \": \\n\" + str(round(float(forty_59_count)/(total_age_count)*100,2)) + \"%\"\n",
    "over_60_label = age_range_choice_over60 + \": \\n\" + str(round(float(over_60_count)/(total_age_count)*100,2)) + \"%\"\n",
    "\n",
    "age_values = [under_40_count,forty_59_count,over_60_count]\n",
    "age_labels = [under_40_label, forty_59_label, over_60_label]'''"
   ]
  },
  {
   "cell_type": "markdown",
   "metadata": {
    "slideshow": {
     "slide_type": "slide"
    }
   },
   "source": [
    "# What is your age range?"
   ]
  },
  {
   "cell_type": "code",
   "execution_count": 1632,
   "metadata": {
    "collapsed": false,
    "slideshow": {
     "slide_type": "fragment"
    }
   },
   "outputs": [
    {
     "data": {
      "image/png": "[encoded data removed]",
      "text/plain": [
       "<matplotlib.figure.Figure at 0x13e939e8>"
      ]
     },
     "metadata": {},
     "output_type": "display_data"
    }
   ],
   "source": [
    "visualize_single_bar(age_range_data[0], age_range_data[1])"
   ]
  },
  {
   "cell_type": "code",
   "execution_count": 1636,
   "metadata": {
    "collapsed": false,
    "slideshow": {
     "slide_type": "skip"
    }
   },
   "outputs": [
    {
     "data": {
      "text/plain": [
       "'\\nparty_data = data[\\'What is your party of registration?\\']\\nparty_dems = party_data[party_data == \"Democrat\"]\\nparty_dems_count = party_dems.value_counts()[0]\\n\\nparty_repubs =  party_data[party_data == \"Republican\"]\\nparty_repubs_count = party_repubs.value_counts()[0]\\n\\nparty_independents =  party_data[party_data == \"Independent\"]\\nparty_independents_count = party_independents.value_counts()[0]\\n\\nparty_other =  party_data[party_data == \"other or not registered\"]\\nparty_other_count = party_other.value_counts()[0]\\n\\ntotal_party_count = party_dems_count+party_repubs_count+party_independents_count+party_other_count\\nparty_dems_label = \"Democrat: \\n\" + str(round(float(party_dems_count)/(total_party_count)*100,2)) + \"%\"\\nparty_repubs_label = \"Republican: \\n\" + str(round(float(party_repubs_count)/(total_party_count)*100,2)) + \"%\"\\nparty_independents_label = \"Independent: \\n\" + str(round(float(party_independents_count)/(total_party_count)*100,2)) + \"%\"\\nparty_other_label = \"Other / Not Registered: \\n\" + str(round(float(party_other_count)/(total_party_count)*100,2)) + \"%\"\\n\\nparty_labels = [party_dems_label, party_repubs_label, party_independents_label, party_other_label]\\nparty_values = [party_dems_count, party_repubs_count, party_independents_count, party_other_count]'"
      ]
     },
     "execution_count": 1636,
     "metadata": {},
     "output_type": "execute_result"
    }
   ],
   "source": [
    "#Aggregate Party Registration Data\n",
    "party_data = crunch_numbers(data, party_question, party_answers)\n",
    "\n",
    "'''\n",
    "party_data = data['What is your party of registration?']\n",
    "party_dems = party_data[party_data == \"Democrat\"]\n",
    "party_dems_count = party_dems.value_counts()[0]\n",
    "\n",
    "party_repubs =  party_data[party_data == \"Republican\"]\n",
    "party_repubs_count = party_repubs.value_counts()[0]\n",
    "\n",
    "party_independents =  party_data[party_data == \"Independent\"]\n",
    "party_independents_count = party_independents.value_counts()[0]\n",
    "\n",
    "party_other =  party_data[party_data == \"other or not registered\"]\n",
    "party_other_count = party_other.value_counts()[0]\n",
    "\n",
    "total_party_count = party_dems_count+party_repubs_count+party_independents_count+party_other_count\n",
    "party_dems_label = \"Democrat: \\n\" + str(round(float(party_dems_count)/(total_party_count)*100,2)) + \"%\"\n",
    "party_repubs_label = \"Republican: \\n\" + str(round(float(party_repubs_count)/(total_party_count)*100,2)) + \"%\"\n",
    "party_independents_label = \"Independent: \\n\" + str(round(float(party_independents_count)/(total_party_count)*100,2)) + \"%\"\n",
    "party_other_label = \"Other / Not Registered: \\n\" + str(round(float(party_other_count)/(total_party_count)*100,2)) + \"%\"\n",
    "\n",
    "party_labels = [party_dems_label, party_repubs_label, party_independents_label, party_other_label]\n",
    "party_values = [party_dems_count, party_repubs_count, party_independents_count, party_other_count]'''"
   ]
  },
  {
   "cell_type": "markdown",
   "metadata": {
    "slideshow": {
     "slide_type": "slide"
    }
   },
   "source": [
    "# What is your party of registration?"
   ]
  },
  {
   "cell_type": "code",
   "execution_count": 1637,
   "metadata": {
    "collapsed": false,
    "scrolled": true,
    "slideshow": {
     "slide_type": "fragment"
    }
   },
   "outputs": [
    {
     "data": {
      "image/png": "[encoded data removed]",
      "text/plain": [
       "<matplotlib.figure.Figure at 0xd4a3b00>"
      ]
     },
     "metadata": {},
     "output_type": "display_data"
    }
   ],
   "source": [
    "visualize_single_bar(party_data[0], party_data[1])"
   ]
  },
  {
   "cell_type": "code",
   "execution_count": 1597,
   "metadata": {
    "collapsed": false,
    "slideshow": {
     "slide_type": "skip"
    }
   },
   "outputs": [],
   "source": [
    "#Aggregate Presidential Candidate Registration Data\n",
    "president_data = crunch_numbers(data, )\n",
    "'''\n",
    "president_data = data[\"Who are you voting for in this year's Presidential election?\"]\n",
    "clinton_voters = president_data[president_data==\"Clinton\"]\n",
    "clinton_count = clinton_voters.value_counts()[0]\n",
    "\n",
    "trump_voters = president_data[president_data==\"Trump\"]\n",
    "trump_count = trump_voters.value_counts()[0]\n",
    "\n",
    "other_voters = president_data[president_data==\"Other\"]\n",
    "other_count = other_voters.value_counts()[0]\n",
    "\n",
    "total_voting_count = clinton_count+trump_count+other_count\n",
    "\n",
    "clinton_label = \"Clinton: \\n\" + str(round(float(clinton_count)/(total_voting_count)*100,2)) + \"%\"\n",
    "trump_label = \"Trump: \\n\" + str(round(float(trump_count)/(total_voting_count)*100,2)) + \"%\"\n",
    "other_label = \"Other: \\n\" + str(round(float(other_count)/(total_voting_count)*100,2)) + \"%\"\n",
    "\n",
    "president_labels = [clinton_label, trump_label, other_label]\n",
    "president_values = [clinton_count, trump_count, other_count]'''"
   ]
  },
  {
   "cell_type": "markdown",
   "metadata": {
    "slideshow": {
     "slide_type": "slide"
    }
   },
   "source": [
    "# Who are you voting for in this year's presidential election?"
   ]
  },
  {
   "cell_type": "code",
   "execution_count": 1598,
   "metadata": {
    "collapsed": false,
    "slideshow": {
     "slide_type": "fragment"
    }
   },
   "outputs": [
    {
     "data": {
      "image/png": "[encoded data removed]",
      "text/plain": [
       "<matplotlib.figure.Figure at 0x12901ba8>"
      ]
     },
     "metadata": {},
     "output_type": "display_data"
    }
   ],
   "source": [
    "visualize_single_bar(president_values, president_labels)"
   ]
  },
  {
   "cell_type": "code",
   "execution_count": 1606,
   "metadata": {
    "collapsed": false,
    "slideshow": {
     "slide_type": "skip"
    }
   },
   "outputs": [
    {
     "name": "stdout",
     "output_type": "stream",
     "text": [
      "Democrat    1\n",
      "Name: What is your party of registration?, dtype: int64\n"
     ]
    }
   ],
   "source": [
    "#Voters By Gender\n",
    "female_Dems = data[(data['What is your gender?']==\"Female\")&(data['What is your party of registration?']==\"Democrat\")]\n",
    "female_Dems_count = female_Dems['What is your party of registration?'].value_counts()[0]\n",
    "\n",
    "female_Repubs = data[(data['What is your gender?']==\"Female\")&(data['What is your party of registration?']==\"Republican\")]\n",
    "female_Repubs_count = female_Repubs['What is your party of registration?'].value_counts()[0]\n",
    "\n",
    "female_Independents = data[(data['What is your gender?']==\"Female\")&(data['What is your party of registration?']==\"Independent\")]\n",
    "female_Independents_count = female_Independents['What is your party of registration?'].value_counts()[0]\n",
    "\n",
    "female_others_count = data[(data['What is your gender?']==\"Female\")&(data['What is your party of registration?']==\"Independent\")]\n"
   ]
  },
  {
   "cell_type": "markdown",
   "metadata": {
    "slideshow": {
     "slide_type": "slide"
    }
   },
   "source": [
    "# Party Affiliation By Gender"
   ]
  },
  {
   "cell_type": "code",
   "execution_count": 1600,
   "metadata": {
    "collapsed": false,
    "slideshow": {
     "slide_type": "skip"
    }
   },
   "outputs": [],
   "source": [
    "#\n",
    "def show_female_party_stats():\n",
    "    pos = arange(len(female_party_values))+.2\n",
    "    #fig = plt.figure(figsize=(15,7))\n",
    "    fig, (ax, ax1) = plt.subplots(1, 2, sharey=True,figsize = (15,7))\n",
    "    #|fig=fig(figsize=(15,7))\n",
    "    #ax = fig.add_subplot(211)\n",
    "    ax.autoscale(enable=True, axis= 'x', tight = True)\n",
    "    ax.set_ylim(0, len(female_party_values))\n",
    "\n",
    "    ax.barh(pos, female_party_values, height = .5)\n",
    "    ax.set_title(\"Female Voters\", fontsize= 20, fontweight = \"bold\")\n",
    "    ax.set_yticklabels(female_party_labels, fontsize=20)\n",
    "    ax.set_yticks(pos+.2)\n",
    "    ax.get_xaxis().set_visible(False)\n",
    "    \n",
    "    ax1.set_title(\"Male Voters\", fontsize= 20, fontweight = \"bold\")\n",
    "    ax1.get_xaxis().set_visible(False)"
   ]
  },
  {
   "cell_type": "code",
   "execution_count": 1601,
   "metadata": {
    "collapsed": false,
    "slideshow": {
     "slide_type": "fragment"
    }
   },
   "outputs": [
    {
     "data": {
      "image/png": "[encoded data removed]",
      "text/plain": [
       "<matplotlib.figure.Figure at 0x15c40cc0>"
      ]
     },
     "metadata": {},
     "output_type": "display_data"
    }
   ],
   "source": [
    "show_female_party_stats()"
   ]
  },
  {
   "cell_type": "code",
   "execution_count": null,
   "metadata": {
    "collapsed": true
   },
   "outputs": [],
   "source": []
  },
  {
   "cell_type": "code",
   "execution_count": null,
   "metadata": {
    "collapsed": true
   },
   "outputs": [],
   "source": []
  },
  {
   "cell_type": "code",
   "execution_count": null,
   "metadata": {
    "collapsed": true
   },
   "outputs": [],
   "source": []
  }
 ],
 "metadata": {
  "anaconda-cloud": {},
  "celltoolbar": "Slideshow",
  "kernelspec": {
   "display_name": "Python 2",
   "language": "python",
   "name": "python2"
  },
  "language_info": {
   "codemirror_mode": {
    "name": "ipython",
    "version": 2
   },
   "file_extension": ".py",
   "mimetype": "text/x-python",
   "name": "python",
   "nbconvert_exporter": "python",
   "pygments_lexer": "ipython2",
   "version": "2.7.12"
  },
  "nbpresent": {
   "slides": {
    "7854285d-ca2a-4402-b631-0e1c0f7670b0": {
     "id": "7854285d-ca2a-4402-b631-0e1c0f7670b0",
     "prev": "efc45ece-05b6-4efa-bebf-4a509db5450c",
     "regions": {}
    },
    "80ab839c-2e59-4fd4-b32a-ada08a56dfc4": {
     "id": "80ab839c-2e59-4fd4-b32a-ada08a56dfc4",
     "layout": "grid",
     "prev": "7854285d-ca2a-4402-b631-0e1c0f7670b0",
     "regions": {
      "2b324524-cc24-4811-8edb-0ee4cb540bcd": {
       "attrs": {
        "height": 0.6666666666666666,
        "pad": 0.01,
        "treemap:weight": 1,
        "width": 0.5,
        "x": 0,
        "y": 0
       },
       "id": "2b324524-cc24-4811-8edb-0ee4cb540bcd"
      },
      "5bc1b2f5-e2e1-463b-b937-f0a49dd9ee80": {
       "attrs": {
        "height": 0.6666666666666666,
        "pad": 0.01,
        "treemap:weight": 1,
        "width": 0.5,
        "x": 0.5,
        "y": 0
       },
       "id": "5bc1b2f5-e2e1-463b-b937-f0a49dd9ee80"
      },
      "8e729d39-ae4c-46a8-aeba-a9fa31a5f597": {
       "attrs": {
        "height": 0.3333333333333333,
        "pad": 0.01,
        "treemap:weight": 1,
        "width": 1,
        "x": 0,
        "y": 0.6666666666666666
       },
       "content": {
        "cell": "43aef5fb-0afb-4f05-975b-20e5a422ba3b",
        "part": "source"
       },
       "id": "8e729d39-ae4c-46a8-aeba-a9fa31a5f597"
      }
     }
    },
    "efc45ece-05b6-4efa-bebf-4a509db5450c": {
     "id": "efc45ece-05b6-4efa-bebf-4a509db5450c",
     "prev": null,
     "regions": {}
    }
   },
   "themes": {}
  }
 },
 "nbformat": 4,
 "nbformat_minor": 0
}
